{
  "nbformat": 4,
  "nbformat_minor": 0,
  "metadata": {
    "colab": {
      "name": "Untitled2.ipynb",
      "provenance": [],
      "include_colab_link": true
    },
    "kernelspec": {
      "name": "python3",
      "display_name": "Python 3"
    }
  },
  "cells": [
    {
      "cell_type": "markdown",
      "metadata": {
        "id": "view-in-github",
        "colab_type": "text"
      },
      "source": [
        "<a href=\"https://colab.research.google.com/github/rayssinha17/Rayflix-alura/blob/main/Untitled2.ipynb\" target=\"_parent\"><img src=\"https://colab.research.google.com/assets/colab-badge.svg\" alt=\"Open In Colab\"/></a>"
      ]
    },
    {
      "cell_type": "code",
      "source": [
        "print(\"=-\"*35)\n",
        "print(\"clima: ensolarado, chuvoso, nublado, ventando\")\n",
        "clima = input(\"como esta o clima:\")\n",
        "\n",
        "print(\"_\"*35)\n",
        "print(\"energia: baixa, media, alta\")\n",
        "energia = input(\"como esta sua energia hoje:\").lower().replace(\" \",\"\")\n",
        "\n",
        "clima == (\"ensolarado\", \"chuvoso\", \"nublado:\", \"ventando:\")\n",
        "energia == (\"baixa:\", \"media:\",\"alta:\")\n",
        "\n",
        "if clima == \"ensolarado\":\n",
        "  if energia == \"baixa\":\n",
        "    print(\"=+\"*35)\n",
        "    print(\"Recomendo tomar um banho gelado !\")\n",
        "\n",
        "if clima == \"ensolarado\":\n",
        "  if energia == \"media\":\n",
        "    print(\"=+\"*35)\n",
        "    print(\"Recomendo tomar um suco de couve com limao !\")\n",
        "\n",
        "if clima == \"ensolarado\":\n",
        "  if energia == \"alta\":\n",
        "    print(\"=+\"*35)\n",
        "    print(\"Recomendo tomar um banho de piscina !\")\n",
        "\n",
        "if clima == \"chuvoso\":\n",
        "  if energia == \"baixa\":\n",
        "    print(\"=+\"*35)\n",
        "    print(\"Recomendo tomar um banho quente !\")\n",
        "\n",
        "if clima == \"chuvoso\":\n",
        "  if energia == \"media\":\n",
        "    print(\"=+\"*35)\n",
        "    print(\"Recomendo assistir um filme !\")\n",
        "\n",
        "if clima == \"chuvoso\":\n",
        "  if energia == \"alta\":\n",
        "    print(\"=+\"*35)\n",
        "    print(\"Recomendo brincar na chuva !\")\n",
        "\n",
        "if clima == \"nublado\":\n",
        "  if energia == \"baixa\":\n",
        "    print(\"=+\"*35)\n",
        "    print(\"Recomendo dormir !\")\n",
        "\n",
        "if clima == \"nublado\":\n",
        "  if energia == \"media\":\n",
        "    print(\"=+\"*35)\n",
        "    print(\"Recomendo jogar videogame !\")\n",
        "\n",
        "if clima == \"nublado\":\n",
        "  if energia == \"alta\":\n",
        "    print(\"=+\"*35)\n",
        "    print(\"Recomendo fazer uma corrida !\")\n",
        "\n",
        "if clima == \"ventando\":\n",
        "  if energia == \"baixa\":\n",
        "    print(\"=+\"*35)\n",
        "    print(\"Recomendo ir ao cinema !\")\n",
        "\n",
        "if clima == \"ventando\":\n",
        "  if energia == \"media\":\n",
        "    print(\"=+\"*35)\n",
        "    print(\"Recomendo conversar com amigos !\")\n",
        "\n",
        "if clima == \"ventando\":\n",
        "  if energia == \"alta\":\n",
        "    print(\"=+\"*35)\n",
        "    print(\"Recomendo fazer uma receita !\")\n",
        "\n"
      ],
      "metadata": {
        "colab": {
          "base_uri": "https://localhost:8080/"
        },
        "id": "G4VqhKulatDb",
        "outputId": "00a6ee15-1d9a-4462-a869-caaf2514ed8d"
      },
      "execution_count": null,
      "outputs": [
        {
          "output_type": "stream",
          "name": "stdout",
          "text": [
            "=-=-=-=-=-=-=-=-=-=-=-=-=-=-=-=-=-=-=-=-=-=-=-=-=-=-=-=-=-=-=-=-=-=-=-\n",
            "clima: ensolarado, chuvoso, nublado, ventando\n",
            "como esta o clima:ventando\n",
            "___________________________________\n",
            "energia: baixa, media, alta\n",
            "como esta sua energia hoje:media\n",
            "=+=+=+=+=+=+=+=+=+=+=+=+=+=+=+=+=+=+=+=+=+=+=+=+=+=+=+=+=+=+=+=+=+=+=+\n",
            "Recomendo conversar com amigos !\n"
          ]
        }
      ]
    }
  ]
}