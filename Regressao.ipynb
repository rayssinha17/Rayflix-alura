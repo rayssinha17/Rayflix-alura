{
  "nbformat": 4,
  "nbformat_minor": 0,
  "metadata": {
    "colab": {
      "name": "Untitled2.ipynb",
      "provenance": [],
      "include_colab_link": true
    },
    "kernelspec": {
      "name": "python3",
      "display_name": "Python 3"
    }
  },
  "cells": [
    {
      "cell_type": "markdown",
      "metadata": {
        "id": "view-in-github",
        "colab_type": "text"
      },
      "source": [
        "<a href=\"https://colab.research.google.com/github/rayssinha17/Rayflix-alura/blob/main/Regressao.ipynb\" target=\"_parent\"><img src=\"https://colab.research.google.com/assets/colab-badge.svg\" alt=\"Open In Colab\"/></a>"
      ]
    },
    {
      "cell_type": "code",
      "source": [
        "print(\"=-\"*35)\n",
        "\n",
        "clima = input(\"como esta o clima:\")\n",
        "energia = input(\"como esta sua energia hoje:\").lower().replace(\" \",\"\")\n",
        "\n",
        "clima == (\"ensolarado:\", \"chuvoso:\", \"nublado:\", \"ventando:\")\n",
        "energia == (\"baixo:\", \"medio:\",\"alto:\")\n",
        "\n",
        "if clima == \"ensolarado\":\n",
        "  if energia == \"baixo\":\n",
        "    print(\"recomendo tomar um suco de limao:\")\n"
      ],
      "metadata": {
        "id": "G4VqhKulatDb",
        "outputId": "6bcd5cf1-bc44-4943-a855-10c008819394",
        "colab": {
          "base_uri": "https://localhost:8080/"
        }
      },
      "execution_count": 48,
      "outputs": [
        {
          "name": "stdout",
          "output_type": "stream",
          "text": [
            "=-=-=-=-=-=-=-=-=-=-=-=-=-=-=-=-=-=-=-=-=-=-=-=-=-=-=-=-=-=-=-=-=-=-=-\n",
            "como esta o clima:ensolarado\n",
            "como esta sua energia hoje:baixa\n"
          ]
        }
      ]
    }
  ]
}